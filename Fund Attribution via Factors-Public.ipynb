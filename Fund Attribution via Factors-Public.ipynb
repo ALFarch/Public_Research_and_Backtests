{
 "cells": [
  {
   "cell_type": "markdown",
   "metadata": {},
   "source": [
    "# Exploring Factor Attribution of a Fund"
   ]
  },
  {
   "cell_type": "markdown",
   "metadata": {},
   "source": [
    "I wanted to explore the factor attribtution of a mutual fund, hedge fund, ETF, you name it, based on the easily replicated Fama French (FF) Factors such as Value, Momentum, Size, etc. It is very easy for a fund manager to claim alpha, but after regressing the factors of value and momentum their alpha more no longer be statistically significant."
   ]
  },
  {
   "cell_type": "code",
   "execution_count": 33,
   "metadata": {},
   "outputs": [],
   "source": [
    "from pandas_datareader.famafrench import get_available_datasets\n",
    "import pandas_datareader.data as web\n",
    "import pandas as pd\n",
    "from datetime import datetime\n",
    "from sklearn import linear_model\n",
    "import numpy as np\n",
    "import seaborn as sns\n",
    "import matplotlib.pyplot as plt\n",
    "import statsmodels.api as sm\n",
    "from matplotlib import style\n",
    "\n",
    "%matplotlib inline\n",
    "\n",
    "pd.set_option('display.max_columns',40)"
   ]
  },
  {
   "cell_type": "markdown",
   "metadata": {},
   "source": [
    "Below are the available datasets to choose from in the Kenneth French database but we will only need 2"
   ]
  },
  {
   "cell_type": "code",
   "execution_count": 34,
   "metadata": {},
   "outputs": [
    {
     "data": {
      "text/plain": [
       "295"
      ]
     },
     "execution_count": 34,
     "metadata": {},
     "output_type": "execute_result"
    }
   ],
   "source": [
    "len(get_available_datasets())"
   ]
  },
  {
   "cell_type": "code",
   "execution_count": 35,
   "metadata": {},
   "outputs": [],
   "source": [
    "#Set the date range for the portfolio/fund you want to analyze\n",
    "start=datetime(2000, 1, 1)\n",
    "end=datetime(2019, 8, 31)\n",
    "\n",
    "#pick the fund, etf, or portfolio you want to measure vs. factors. In this case I chose Berkshire Hathaway Class A.\n",
    "FUND = web.DataReader(\"BRK-A\", \"av-daily-adjusted\", start, end, access_key = 'APIKEYHERE') "
   ]
  },
  {
   "cell_type": "markdown",
   "metadata": {},
   "source": [
    "You will need to get the 'file name' from the the actual url via the French\n",
    "website, below is the dataset from the Daily FF factors (size, value, market) and momentum for US equities."
   ]
  },
  {
   "cell_type": "code",
   "execution_count": 36,
   "metadata": {},
   "outputs": [
    {
     "name": "stdout",
     "output_type": "stream",
     "text": [
      "F-F Research Data Factors daily\n",
      "-------------------------------\n",
      "\n",
      "This file was created by CMPT_ME_BEME_RETS_DAILY using the 201909 CRSP database. The Tbill return is the simple daily rate that, over the number of trading days in the month, compounds to 1-month TBill rate from Ibbotson and Associates Inc. Copyright 2019 Kenneth R. French\n",
      "\n",
      "  0 : (4967 rows x 4 cols)\n",
      "F-F Momentum Factor daily\n",
      "-------------------------\n",
      "\n",
      "This file was created by CMPT_ME_PRIOR_RETS_DAILY using the 201909 CRSP database. It contains a momentum factor, constructed from six value-weight portfolios formed using independent sorts on size and prior return of NYSE, AMEX, and NASDAQ stocks. MOM is the average of the returns on two (big and small) high prior return portfolios minus the average of the returns on two low prior return portfolios. The portfolios are constructed daily. Big means a firm is above the median market cap on the NYSE at the end of the previous day; small firms are below the median NYSE market cap. Prior return is measured from day - 250 to - 21. Firms in the low prior return portfolio are below the 30th NYSE percentile. Those in the high portfolio are above the 70th NYSE percentile. Missing data are indicated by -99.99 or -999. Copyright 2019 Kenneth R. French\n",
      "\n",
      "  0 : (4967 rows x 1 cols)\n"
     ]
    }
   ],
   "source": [
    "ds = web.DataReader('F-F_Research_Data_Factors_daily', 'famafrench', start = start)\n",
    "                    \n",
    "ds_mom = web.DataReader('F-F_Momentum_Factor_daily', 'famafrench', start = start)\n",
    "        \n",
    "print(ds['DESCR'])\n",
    "print(ds_mom['DESCR'])\n",
    "#below is a simple description of both datasets"
   ]
  },
  {
   "cell_type": "code",
   "execution_count": 37,
   "metadata": {},
   "outputs": [
    {
     "data": {
      "text/html": [
       "<div>\n",
       "<style scoped>\n",
       "    .dataframe tbody tr th:only-of-type {\n",
       "        vertical-align: middle;\n",
       "    }\n",
       "\n",
       "    .dataframe tbody tr th {\n",
       "        vertical-align: top;\n",
       "    }\n",
       "\n",
       "    .dataframe thead th {\n",
       "        text-align: right;\n",
       "    }\n",
       "</style>\n",
       "<table border=\"1\" class=\"dataframe\">\n",
       "  <thead>\n",
       "    <tr style=\"text-align: right;\">\n",
       "      <th></th>\n",
       "      <th>Mkt-RF</th>\n",
       "      <th>SMB</th>\n",
       "      <th>HML</th>\n",
       "      <th>RF</th>\n",
       "    </tr>\n",
       "    <tr>\n",
       "      <th>Date</th>\n",
       "      <th></th>\n",
       "      <th></th>\n",
       "      <th></th>\n",
       "      <th></th>\n",
       "    </tr>\n",
       "  </thead>\n",
       "  <tbody>\n",
       "    <tr>\n",
       "      <th>2000-01-03</th>\n",
       "      <td>-0.71</td>\n",
       "      <td>0.38</td>\n",
       "      <td>-0.85</td>\n",
       "      <td>0.021</td>\n",
       "    </tr>\n",
       "    <tr>\n",
       "      <th>2000-01-04</th>\n",
       "      <td>-4.06</td>\n",
       "      <td>-0.04</td>\n",
       "      <td>2.21</td>\n",
       "      <td>0.021</td>\n",
       "    </tr>\n",
       "    <tr>\n",
       "      <th>2000-01-05</th>\n",
       "      <td>-0.09</td>\n",
       "      <td>0.18</td>\n",
       "      <td>0.14</td>\n",
       "      <td>0.021</td>\n",
       "    </tr>\n",
       "    <tr>\n",
       "      <th>2000-01-06</th>\n",
       "      <td>-0.73</td>\n",
       "      <td>-0.67</td>\n",
       "      <td>1.38</td>\n",
       "      <td>0.021</td>\n",
       "    </tr>\n",
       "    <tr>\n",
       "      <th>2000-01-07</th>\n",
       "      <td>3.21</td>\n",
       "      <td>-0.59</td>\n",
       "      <td>-1.24</td>\n",
       "      <td>0.021</td>\n",
       "    </tr>\n",
       "  </tbody>\n",
       "</table>\n",
       "</div>"
      ],
      "text/plain": [
       "            Mkt-RF   SMB   HML     RF\n",
       "Date                                 \n",
       "2000-01-03   -0.71  0.38 -0.85  0.021\n",
       "2000-01-04   -4.06 -0.04  2.21  0.021\n",
       "2000-01-05   -0.09  0.18  0.14  0.021\n",
       "2000-01-06   -0.73 -0.67  1.38  0.021\n",
       "2000-01-07    3.21 -0.59 -1.24  0.021"
      ]
     },
     "execution_count": 37,
     "metadata": {},
     "output_type": "execute_result"
    }
   ],
   "source": [
    "#this is what the first 5 rows of the dataset look like, which is the daily factor returns\n",
    "ds[0].head()"
   ]
  },
  {
   "cell_type": "markdown",
   "metadata": {},
   "source": [
    "We will need to store the data in a new dataframe and convert to decimal form to have correct return calculations"
   ]
  },
  {
   "cell_type": "code",
   "execution_count": 38,
   "metadata": {},
   "outputs": [],
   "source": [
    "data = ds[0]\n",
    "data = data/100\n",
    "\n",
    "data_mom = ds_mom[0]\n",
    "data_mom = data_mom/100"
   ]
  },
  {
   "cell_type": "code",
   "execution_count": 39,
   "metadata": {},
   "outputs": [],
   "source": [
    "data_mom = data_mom.rename(columns={'Mom   ':'Mom'}) #I had to remove the extra white space in the title\n",
    "\n",
    "#combine the two dataframes\n",
    "data_df = pd.DataFrame()\n",
    "data_df = data.join(data_mom)                                  \n",
    "\n",
    "#calculate the returns of the choosen fund\n",
    "fund = pd.DataFrame()\n",
    "fund['fund returns'] = FUND['adjusted close'].pct_change()\n",
    "\n",
    "#join the FF dataframes with the fund dataframe\n",
    "df = pd.DataFrame()\n",
    "df = data_df.join(fund)\n",
    "df.dropna(inplace=True)\n",
    "df.head()\n",
    "df.columns\n",
    "\n",
    "X = df[['Mkt-RF','SMB','HML','Mom','RF']] # here we have 5 variables for multiple regression. \n",
    "Y = df['fund returns']\n",
    " "
   ]
  },
  {
   "cell_type": "markdown",
   "metadata": {},
   "source": [
    "## Linear Regression for Factor Attribution"
   ]
  },
  {
   "cell_type": "markdown",
   "metadata": {},
   "source": [
    "We want to regress the different factors against the performance of the fund to see how much is explained by easily replicated investment factors and how much is unexplainable alpha."
   ]
  },
  {
   "cell_type": "code",
   "execution_count": 40,
   "metadata": {},
   "outputs": [
    {
     "name": "stdout",
     "output_type": "stream",
     "text": [
      "                            OLS Regression Results                            \n",
      "==============================================================================\n",
      "Dep. Variable:           fund returns   R-squared:                       0.318\n",
      "Model:                            OLS   Adj. R-squared:                  0.318\n",
      "Method:                 Least Squares   F-statistic:                     576.3\n",
      "Date:                Mon, 11 Nov 2019   Prob (F-statistic):               0.00\n",
      "Time:                        09:48:35   Log-Likelihood:                 15027.\n",
      "No. Observations:                4946   AIC:                        -3.004e+04\n",
      "Df Residuals:                    4941   BIC:                        -3.001e+04\n",
      "Df Model:                           4                                         \n",
      "Covariance Type:            nonrobust                                         \n",
      "==============================================================================\n",
      "                 coef    std err          t      P>|t|      [0.025      0.975]\n",
      "------------------------------------------------------------------------------\n",
      "const          0.0003      0.000      1.552      0.121   -6.74e-05       0.001\n",
      "Mkt-RF         0.6139      0.014     42.351      0.000       0.585       0.642\n",
      "SMB           -0.0927      0.028     -3.332      0.001      -0.147      -0.038\n",
      "HML            0.4115      0.027     15.324      0.000       0.359       0.464\n",
      "Mom            0.0281      0.019      1.497      0.134      -0.009       0.065\n",
      "==============================================================================\n",
      "Omnibus:                     1766.640   Durbin-Watson:                   2.117\n",
      "Prob(Omnibus):                  0.000   Jarque-Bera (JB):            43430.405\n",
      "Skew:                           1.145   Prob(JB):                         0.00\n",
      "Kurtosis:                      17.335   Cond. No.                         177.\n",
      "==============================================================================\n",
      "\n",
      "Warnings:\n",
      "[1] Standard Errors assume that the covariance matrix of the errors is correctly specified.\n"
     ]
    },
    {
     "name": "stderr",
     "output_type": "stream",
     "text": [
      "/anaconda3/envs/myenv1/lib/python3.7/site-packages/numpy/core/fromnumeric.py:2389: FutureWarning: Method .ptp is deprecated and will be removed in a future version. Use numpy.ptp instead.\n",
      "  return ptp(axis=axis, out=out, **kwargs)\n"
     ]
    }
   ],
   "source": [
    "#####Stats package and large output#####\n",
    "X = df[['Mkt-RF','SMB','HML','Mom']] # here we have 5 variables for multiple regression. \n",
    "Y = df['fund returns']\n",
    "X = sm.add_constant(X)\n",
    "model = sm.OLS(Y,X)\n",
    "results = model.fit()\n",
    "results.params\n",
    "results.tvalues\n",
    "print(results.summary())"
   ]
  },
  {
   "cell_type": "markdown",
   "metadata": {},
   "source": [
    "We can look at the P values of the coefficients to see if they are statistially significant than zero. With BRK-A we see that the Market Equity Risk premium, Size effect (SMB), and Value factor (HML) are siginficant at the 1% level but the Momentum is not. Moreover, the adjusted R-squared is .318 meaning 31.8% of the BRK-A's returns can be explained by the model. We will see the same but simpler output below"
   ]
  },
  {
   "cell_type": "code",
   "execution_count": 41,
   "metadata": {},
   "outputs": [
    {
     "name": "stdout",
     "output_type": "stream",
     "text": [
      "Mkt-RF, SMB, HML, Mom Beta Coefficient : \n",
      " [ 0.61388725 -0.09272603  0.41146868  0.02814096]\n",
      "0.00025624127277150736\n",
      "The factors explain 0.318 percent of the portfolio variation and thus 0.682 is unexplained by the factors\n"
     ]
    }
   ],
   "source": [
    "########### with sklearn############\n",
    "X = df[['Mkt-RF','SMB','HML','Mom']] # here we have 3 variables for multiple regression. \n",
    "Y = df['fund returns']\n",
    "\n",
    "regr = linear_model.LinearRegression()\n",
    "regr.fit(X, Y)\n",
    "regr.score(X, Y)\n",
    "\n",
    "print('Mkt-RF, SMB, HML, Mom Beta Coefficient : \\n', regr.coef_)\n",
    "print(regr.intercept_)\n",
    "\n",
    "unexplained_variation = round(1 - round(regr.score(X, Y),3),3)\n",
    "\n",
    "#Adjusted R Squared below which is nearly the same\n",
    "adjusted_R_Squared = round((1 - (1-regr.score(X, Y))*(len(Y)-1)/(len(Y)-X.shape[1]-1)),3)\n",
    "\n",
    "#amound explained and unexplained by index etfs\n",
    "print('The factors explain ' + str(adjusted_R_Squared) + ' percent of the portfolio variation' + \n",
    "      ' and thus ' + str(unexplained_variation) + ' is unexplained by the factors')"
   ]
  },
  {
   "cell_type": "markdown",
   "metadata": {},
   "source": [
    "Let's look at the annualized returns for the factors and fund for the time frame"
   ]
  },
  {
   "cell_type": "code",
   "execution_count": 42,
   "metadata": {},
   "outputs": [
    {
     "data": {
      "text/html": [
       "<div>\n",
       "<style scoped>\n",
       "    .dataframe tbody tr th:only-of-type {\n",
       "        vertical-align: middle;\n",
       "    }\n",
       "\n",
       "    .dataframe tbody tr th {\n",
       "        vertical-align: top;\n",
       "    }\n",
       "\n",
       "    .dataframe thead th {\n",
       "        text-align: right;\n",
       "    }\n",
       "</style>\n",
       "<table border=\"1\" class=\"dataframe\">\n",
       "  <thead>\n",
       "    <tr style=\"text-align: right;\">\n",
       "      <th></th>\n",
       "      <th>Mkt-RF</th>\n",
       "      <th>SMB</th>\n",
       "      <th>HML</th>\n",
       "      <th>RF</th>\n",
       "      <th>Mom</th>\n",
       "      <th>fund returns</th>\n",
       "    </tr>\n",
       "    <tr>\n",
       "      <th>Date</th>\n",
       "      <th></th>\n",
       "      <th></th>\n",
       "      <th></th>\n",
       "      <th></th>\n",
       "      <th></th>\n",
       "      <th></th>\n",
       "    </tr>\n",
       "  </thead>\n",
       "  <tbody>\n",
       "    <tr>\n",
       "      <th>2019-08-30</th>\n",
       "      <td>0.042246</td>\n",
       "      <td>0.017718</td>\n",
       "      <td>0.022485</td>\n",
       "      <td>0.016284</td>\n",
       "      <td>0.028319</td>\n",
       "      <td>0.09105</td>\n",
       "    </tr>\n",
       "  </tbody>\n",
       "</table>\n",
       "</div>"
      ],
      "text/plain": [
       "              Mkt-RF       SMB       HML        RF       Mom  fund returns\n",
       "Date                                                                      \n",
       "2019-08-30  0.042246  0.017718  0.022485  0.016284  0.028319       0.09105"
      ]
     },
     "execution_count": 42,
     "metadata": {},
     "output_type": "execute_result"
    }
   ],
   "source": [
    "annualized_returns = (1+df).cumprod()**(252/len(df))-1\n",
    "annualized_returns[-1:]"
   ]
  },
  {
   "cell_type": "code",
   "execution_count": 43,
   "metadata": {},
   "outputs": [
    {
     "data": {
      "text/plain": [
       "array([[0.04224574, 0.01771784, 0.0224852 , 0.02831864]])"
      ]
     },
     "execution_count": 43,
     "metadata": {},
     "output_type": "execute_result"
    }
   ],
   "source": [
    "returns = []\n",
    "returns = np.array(annualized_returns.iloc[-1:,[0,1,2,4]])\n",
    "returns"
   ]
  },
  {
   "cell_type": "code",
   "execution_count": 44,
   "metadata": {},
   "outputs": [],
   "source": [
    "betas = pd.DataFrame()\n",
    "betas['coeff'] = regr.coef_\n",
    "betas['perf'] = returns.transpose()\n",
    "betas['return contribution'] = betas['coeff']*betas['perf']"
   ]
  },
  {
   "cell_type": "code",
   "execution_count": 45,
   "metadata": {},
   "outputs": [],
   "source": [
    "fund_returns = annualized_returns.iloc[-1,-1]\n",
    "fund_returns_exess = fund_returns - annualized_returns.iloc[-1,-3] #remove the risk-free return to get excess return\n",
    "alpha = fund_returns_exess - betas['return contribution'].sum()"
   ]
  },
  {
   "cell_type": "code",
   "execution_count": 46,
   "metadata": {},
   "outputs": [
    {
     "data": {
      "text/plain": [
       "<matplotlib.axes._subplots.AxesSubplot at 0x1c1fe92048>"
      ]
     },
     "execution_count": 46,
     "metadata": {},
     "output_type": "execute_result"
    },
    {
     "data": {
      "image/png": "[encoded data removed]",
      "text/plain": [
       "<Figure size 432x288 with 1 Axes>"
      ]
     },
     "metadata": {},
     "output_type": "display_data"
    }
   ],
   "source": [
    "betas.rename({0: 'Mkt-RF', 1: 'SMB', 2: 'HML', 3: 'Mom'})\n",
    "totals = pd.DataFrame()\n",
    "totals = betas['return contribution']\n",
    "\n",
    "alpha_df = pd.DataFrame()\n",
    "alpha_df = alpha\n",
    "alpha_df = pd.Series(alpha_df)\n",
    "totals = totals.append(alpha_df)\n",
    "fund_returns_excess_df = pd.Series(fund_returns_exess)\n",
    "totals = totals.append(fund_returns_excess_df)\n",
    "totals = totals.reset_index(drop=True)\n",
    "totals = totals.rename({0: 'Mkt-RF', 1: 'SMB', 2: 'HML',3: 'Mom', 4: 'alpha', 5: 'Fund excess Returns'})\n",
    "\n",
    "#Plots the factor attribution of the portfolio\n",
    "sns.set()\n",
    "plt.title(\"Factor Expsoure for the Fund\")\n",
    "totals.T.plot(kind='bar', stacked=True)"
   ]
  },
  {
   "cell_type": "markdown",
   "metadata": {},
   "source": [
    "So we can see that Berkshire Hathaway since 2000 has created about 4% of alpha annually beyond what can be reproduced by factors. For further research and analysis, including a quality factor and low volatility factor could potentially bring the alpha near to zero in light of Buffet's proclaimed investment strategy"
   ]
  }
 ],
 "metadata": {
  "kernelspec": {
   "display_name": "Python 3",
   "language": "python",
   "name": "python3"
  },
  "language_info": {
   "codemirror_mode": {
    "name": "ipython",
    "version": 3
   },
   "file_extension": ".py",
   "mimetype": "text/x-python",
   "name": "python",
   "nbconvert_exporter": "python",
   "pygments_lexer": "ipython3",
   "version": "3.7.3"
  }
 },
 "nbformat": 4,
 "nbformat_minor": 2
}
